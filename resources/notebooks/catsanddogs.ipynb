{
 "cells": [
  {
   "cell_type": "markdown",
   "metadata": {},
   "source": [
    "# The Path of the Dog\n",
    "\n",
    "### shanenolan.io\n",
    "\n",
    "The python notebook associated with some of the simple observations made in the accompanying blog post found [here](https://www.shanenolan.io/post/path-of-the-dog/) \n",
    "\n",
    "![pathofthedog](https://www.shanenolan.io/images/pathofthedog.png)\n"
   ]
  },
  {
   "cell_type": "markdown",
   "metadata": {},
   "source": [
    "### import the required libraries"
   ]
  },
  {
   "cell_type": "code",
   "execution_count": 49,
   "metadata": {},
   "outputs": [],
   "source": [
    "import matplotlib.pyplot as plt\n",
    "import numpy as np"
   ]
  },
  {
   "cell_type": "markdown",
   "metadata": {},
   "source": [
    "### define basic functions\n",
    "we make some assumptions about the dimensional shape of the inputs but sure look, nobodies perfect. You can see that we've done something cheeky with the cosine function, by simply subtracting the cosine similarity from 1 we can determine the cosine distance"
   ]
  },
  {
   "cell_type": "code",
   "execution_count": 112,
   "metadata": {},
   "outputs": [],
   "source": [
    "def euclidean(a,b):\n",
    "    point1 = np.array(a)\n",
    "    point2 = np.array(b)\n",
    "    dist = np.linalg.norm(point1 - point2)\n",
    "    return dist\n",
    "\n",
    "def cosine(a,b):\n",
    "    point1 = np.array(a)\n",
    "    point2 = np.array(b)\n",
    "    a_norm = np.linalg.norm(point1)\n",
    "    b_norm = np.linalg.norm(point2)\n",
    "    similiarity = np.dot(point1, point2.T)/(a_norm * b_norm) \n",
    "    dist = 1 - similiarity\n",
    "    return dist"
   ]
  },
  {
   "cell_type": "markdown",
   "metadata": {},
   "source": [
    "### plot the docs\n",
    "\n",
    "| Document      | Dog Count | Cat Count |\n",
    "| ----------- | ----------- | --------- |\n",
    "| How to bake 11 different cakes      | 0       | 0     |\n",
    "| What is that barking noise   | 10        | 2 |\n",
    "| How to pet a dog   | 4        | 1 |\n",
    "| The art of witchcraft   | 5        | 25 |\n",
    "| Hello Kitty goes to space   | 8        | 60 |"
   ]
  },
  {
   "cell_type": "code",
   "execution_count": 108,
   "metadata": {},
   "outputs": [
    {
     "data": {
      "text/plain": [
       "<matplotlib.collections.PathCollection at 0x117745890>"
      ]
     },
     "execution_count": 108,
     "metadata": {},
     "output_type": "execute_result"
    },
    {
     "data": {
      "image/png": "[encoded data removed]",
      "text/plain": [
       "<Figure size 432x288 with 1 Axes>"
      ]
     },
     "metadata": {
      "needs_background": "light"
     },
     "output_type": "display_data"
    }
   ],
   "source": [
    "x = [0, 10, 4, 5, 8]\n",
    "y = [0, 2, 1, 25, 60]\n",
    "\n",
    "plt.xlabel('dog')\n",
    "plt.ylabel('cat')\n",
    "\n",
    "plt.scatter(x, y)"
   ]
  },
  {
   "cell_type": "markdown",
   "metadata": {},
   "source": [
    "### test euclidean distance\n",
    "We'll use the document `the art of witchcraft`, which has 5 mentions of dog and 25 mentions of cat, and we'll compare it to `how to pet a dog` and `Hello Kitty goes to space` "
   ]
  },
  {
   "cell_type": "code",
   "execution_count": 109,
   "metadata": {},
   "outputs": [
    {
     "name": "stdout",
     "output_type": "stream",
     "text": [
      "distance to dog 20.223748416156685\n",
      "distance to cat 55.71355310873648\n"
     ]
    },
    {
     "data": {
      "image/png": "[encoded data removed]",
      "text/plain": [
       "<Figure size 432x288 with 1 Axes>"
      ]
     },
     "metadata": {
      "needs_background": "light"
     },
     "output_type": "display_data"
    }
   ],
   "source": [
    "x = [0, 10, 4, 5, 8]\n",
    "y = [0, 2, 1, 25, 60]\n",
    "\n",
    "plt.xlabel('dog')\n",
    "plt.ylabel('cat')\n",
    "\n",
    "plt.scatter(x, y)\n",
    "plt.plot([4,5], [1,25], color=\"blue\",  label=\"distance to dog\")\n",
    "plt.plot([5,8], [25,60], color=\"red\", label=\"distance to cat\")\n",
    "\n",
    "dist1 = euclidean((4,5), (1,25)) \n",
    "dist2 = euclidean((5,8), (25,60))\n",
    "\n",
    "print(f\"distance to dog {dist1}\")\n",
    "print(f\"distance to cat {dist2}\")\n",
    "\n",
    "plt.legend()\n",
    "plt.show()"
   ]
  },
  {
   "cell_type": "markdown",
   "metadata": {},
   "source": [
    "### test cosine distance\n",
    "Using the Euclidean distance as a measure - we would actually classify this document under dog related rather than cat related. Lets try cosine next"
   ]
  },
  {
   "cell_type": "code",
   "execution_count": 111,
   "metadata": {},
   "outputs": [
    {
     "data": {
      "image/png": "[encoded data removed]",
      "text/plain": [
       "<Figure size 432x288 with 1 Axes>"
      ]
     },
     "metadata": {
      "needs_background": "light"
     },
     "output_type": "display_data"
    },
    {
     "name": "stdout",
     "output_type": "stream",
     "text": [
      "distance to dog 0.1947873013515764\n",
      "distance to cat 0.013386588609464845\n"
     ]
    }
   ],
   "source": [
    "x = [0, 10, 4, 5, 8]\n",
    "y = [0, 2, 1, 25, 60]\n",
    "\n",
    "plt.xlabel('dog')\n",
    "plt.ylabel('cat')\n",
    "\n",
    "plt.scatter(x, y)\n",
    "plt.plot([0,4], [0,1], color=\"blue\",  label=\"dog\")\n",
    "plt.plot([0,5], [0,25], color=\"black\", linestyle='--', label=\"x\")\n",
    "plt.plot([0,8], [0,60], color=\"red\", label=\"cat\")\n",
    "\n",
    "plt.legend()\n",
    "plt.show()\n",
    "\n",
    "dist1 = cosine((4,5), (1,25))\n",
    "dist2 = cosine((5,8), (25,60))\n",
    "\n",
    "print(f\"distance to dog {dist1}\")\n",
    "print(f\"distance to cat {dist2}\")"
   ]
  },
  {
   "cell_type": "markdown",
   "metadata": {},
   "source": [
    "### results\n",
    "The cosine distance gives us the expected result. The distance to cat is much smaller than the distance to dog so the document would be classified as cat. The path of the dog is a much bigger diversion than the path of the cat. Nobody said the path of the dog would be easy."
   ]
  },
  {
   "cell_type": "code",
   "execution_count": null,
   "metadata": {},
   "outputs": [],
   "source": []
  }
 ],
 "metadata": {
  "kernelspec": {
   "display_name": "Python 3",
   "language": "python",
   "name": "python3"
  },
  "language_info": {
   "codemirror_mode": {
    "name": "ipython",
    "version": 3
   },
   "file_extension": ".py",
   "mimetype": "text/x-python",
   "name": "python",
   "nbconvert_exporter": "python",
   "pygments_lexer": "ipython3",
   "version": "3.7.4"
  }
 },
 "nbformat": 4,
 "nbformat_minor": 2
}
