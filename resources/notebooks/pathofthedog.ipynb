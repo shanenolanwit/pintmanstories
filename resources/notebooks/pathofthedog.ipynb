{
 "cells": [
  {
   "cell_type": "markdown",
   "metadata": {},
   "source": [
    "## Begin imports"
   ]
  },
  {
   "cell_type": "code",
   "execution_count": 181,
   "metadata": {},
   "outputs": [],
   "source": [
    "import numpy as np\n",
    "import matplotlib.pyplot as plt\n",
    "import pandas as pd"
   ]
  },
  {
   "cell_type": "markdown",
   "metadata": {},
   "source": [
    "## Define our functions"
   ]
  },
  {
   "cell_type": "code",
   "execution_count": 182,
   "metadata": {},
   "outputs": [],
   "source": [
    "def remove_label(row):\n",
    "    return row[:-1]\n",
    "\n",
    "def euclidean_distance(x, y):\n",
    "    return np.sqrt(np.sum(np.square(x-y)))\n",
    "\n",
    "def cosine_similarity(x, y):\n",
    "    return np.dot(x, y) / (np.sqrt(np.dot(x, x)) * np.sqrt(np.dot(y, y)))\n",
    "\n",
    "def cosine_distance(x, y):\n",
    "    return 1 - cosine_similarity(x, y)"
   ]
  },
  {
   "cell_type": "markdown",
   "metadata": {},
   "source": [
    "# When euclidean is king\n",
    "\n",
    "In this example we have a list labrador dogs, represented as a matrix. Each row represents a single dog, with each column representing one of the dogs attributes - namely Weight, Length and Age, where age can be one of three possible values - 0 (young), 1 (mid) or 2 (adult)"
   ]
  },
  {
   "cell_type": "code",
   "execution_count": 183,
   "metadata": {},
   "outputs": [],
   "source": [
    "X = np.array([[6.6, 6.2, 1],\n",
    "              [9.7, 9.9, 2],\n",
    "              [8.0, 8.3, 2],\n",
    "              [6.3, 5.4, 1],\n",
    "              [1.3, 2.7, 0],\n",
    "              [2.3, 3.1, 0],\n",
    "              [6.6, 6.0, 1],\n",
    "              [6.5, 6.4, 1],\n",
    "              [6.3, 5.8, 1],\n",
    "              [9.5, 9.9, 2],\n",
    "              [8.9, 8.9, 2],\n",
    "              [8.7, 9.5, 2],\n",
    "              [2.5, 3.8, 0],\n",
    "              [2.0, 3.1, 0],\n",
    "              [1.3, 1.8, 0]])\n",
    "\n",
    "labels = [\"young\", \"mid\", \"adult\"]"
   ]
  },
  {
   "cell_type": "code",
   "execution_count": 184,
   "metadata": {},
   "outputs": [
    {
     "data": {
      "text/html": [
       "<div>\n",
       "<style scoped>\n",
       "    .dataframe tbody tr th:only-of-type {\n",
       "        vertical-align: middle;\n",
       "    }\n",
       "\n",
       "    .dataframe tbody tr th {\n",
       "        vertical-align: top;\n",
       "    }\n",
       "\n",
       "    .dataframe thead th {\n",
       "        text-align: right;\n",
       "    }\n",
       "</style>\n",
       "<table border=\"1\" class=\"dataframe\">\n",
       "  <thead>\n",
       "    <tr style=\"text-align: right;\">\n",
       "      <th></th>\n",
       "      <th>weight</th>\n",
       "      <th>length</th>\n",
       "      <th>label</th>\n",
       "    </tr>\n",
       "  </thead>\n",
       "  <tbody>\n",
       "    <tr>\n",
       "      <td>0</td>\n",
       "      <td>6.6</td>\n",
       "      <td>6.2</td>\n",
       "      <td>1.0</td>\n",
       "    </tr>\n",
       "    <tr>\n",
       "      <td>1</td>\n",
       "      <td>9.7</td>\n",
       "      <td>9.9</td>\n",
       "      <td>2.0</td>\n",
       "    </tr>\n",
       "    <tr>\n",
       "      <td>2</td>\n",
       "      <td>8.0</td>\n",
       "      <td>8.3</td>\n",
       "      <td>2.0</td>\n",
       "    </tr>\n",
       "    <tr>\n",
       "      <td>3</td>\n",
       "      <td>6.3</td>\n",
       "      <td>5.4</td>\n",
       "      <td>1.0</td>\n",
       "    </tr>\n",
       "    <tr>\n",
       "      <td>4</td>\n",
       "      <td>1.3</td>\n",
       "      <td>2.7</td>\n",
       "      <td>0.0</td>\n",
       "    </tr>\n",
       "    <tr>\n",
       "      <td>5</td>\n",
       "      <td>2.3</td>\n",
       "      <td>3.1</td>\n",
       "      <td>0.0</td>\n",
       "    </tr>\n",
       "    <tr>\n",
       "      <td>6</td>\n",
       "      <td>6.6</td>\n",
       "      <td>6.0</td>\n",
       "      <td>1.0</td>\n",
       "    </tr>\n",
       "    <tr>\n",
       "      <td>7</td>\n",
       "      <td>6.5</td>\n",
       "      <td>6.4</td>\n",
       "      <td>1.0</td>\n",
       "    </tr>\n",
       "    <tr>\n",
       "      <td>8</td>\n",
       "      <td>6.3</td>\n",
       "      <td>5.8</td>\n",
       "      <td>1.0</td>\n",
       "    </tr>\n",
       "    <tr>\n",
       "      <td>9</td>\n",
       "      <td>9.5</td>\n",
       "      <td>9.9</td>\n",
       "      <td>2.0</td>\n",
       "    </tr>\n",
       "    <tr>\n",
       "      <td>10</td>\n",
       "      <td>8.9</td>\n",
       "      <td>8.9</td>\n",
       "      <td>2.0</td>\n",
       "    </tr>\n",
       "    <tr>\n",
       "      <td>11</td>\n",
       "      <td>8.7</td>\n",
       "      <td>9.5</td>\n",
       "      <td>2.0</td>\n",
       "    </tr>\n",
       "    <tr>\n",
       "      <td>12</td>\n",
       "      <td>2.5</td>\n",
       "      <td>3.8</td>\n",
       "      <td>0.0</td>\n",
       "    </tr>\n",
       "    <tr>\n",
       "      <td>13</td>\n",
       "      <td>2.0</td>\n",
       "      <td>3.1</td>\n",
       "      <td>0.0</td>\n",
       "    </tr>\n",
       "    <tr>\n",
       "      <td>14</td>\n",
       "      <td>1.3</td>\n",
       "      <td>1.8</td>\n",
       "      <td>0.0</td>\n",
       "    </tr>\n",
       "  </tbody>\n",
       "</table>\n",
       "</div>"
      ],
      "text/plain": [
       "    weight  length  label\n",
       "0      6.6     6.2    1.0\n",
       "1      9.7     9.9    2.0\n",
       "2      8.0     8.3    2.0\n",
       "3      6.3     5.4    1.0\n",
       "4      1.3     2.7    0.0\n",
       "5      2.3     3.1    0.0\n",
       "6      6.6     6.0    1.0\n",
       "7      6.5     6.4    1.0\n",
       "8      6.3     5.8    1.0\n",
       "9      9.5     9.9    2.0\n",
       "10     8.9     8.9    2.0\n",
       "11     8.7     9.5    2.0\n",
       "12     2.5     3.8    0.0\n",
       "13     2.0     3.1    0.0\n",
       "14     1.3     1.8    0.0"
      ]
     },
     "execution_count": 184,
     "metadata": {},
     "output_type": "execute_result"
    }
   ],
   "source": [
    "\n",
    "df = pd.DataFrame(X, columns=['weight', 'length', 'label'])\n",
    "df"
   ]
  },
  {
   "cell_type": "markdown",
   "metadata": {},
   "source": [
    "## Lets plot all of our points\n",
    "\n",
    "After plotting all of our points we can clearly see how dogs with a similar weight and length have formed natural clusters which correspond with their respective labels"
   ]
  },
  {
   "cell_type": "code",
   "execution_count": 185,
   "metadata": {},
   "outputs": [
    {
     "data": {
      "image/png": "[encoded data removed]",
      "text/plain": [
       "<Figure size 432x288 with 1 Axes>"
      ]
     },
     "metadata": {
      "needs_background": "light"
     },
     "output_type": "display_data"
    }
   ],
   "source": [
    "ax = df[df['label'] == 0].plot.scatter(x='weight', y='length', c='blue', label='young')\n",
    "ax = df[df['label'] == 1].plot.scatter(x='weight', y='length', c='orange', label='mid', ax=ax)\n",
    "ax = df[df['label'] == 2].plot.scatter(x='weight', y='length', c='red', label='adult', ax=ax)"
   ]
  },
  {
   "cell_type": "markdown",
   "metadata": {},
   "source": [
    "## Setting up a test\n",
    "\n",
    "Lets take a point from each cluster and plot it on our graph. We'll also plot a point with no known label."
   ]
  },
  {
   "cell_type": "code",
   "execution_count": 186,
   "metadata": {},
   "outputs": [
    {
     "data": {
      "image/png": "[encoded data removed]",
      "text/plain": [
       "<Figure size 432x288 with 1 Axes>"
      ]
     },
     "metadata": {
      "needs_background": "light"
     },
     "output_type": "display_data"
    }
   ],
   "source": [
    "df2 = pd.DataFrame([df.iloc[0], df.iloc[1], df.iloc[4]], columns=['weight', 'length', 'label'])\n",
    "df3 = pd.DataFrame([df.iloc[14]], columns=['weight', 'length', 'label'])\n",
    "\n",
    "ax = df2[df2['label'] == 0].plot.scatter(x='weight', y='length', c='blue', label='young')\n",
    "ax = df2[df2['label'] == 1].plot.scatter(x='weight', y='length', c='orange', label='mid', ax=ax)\n",
    "ax = df2[df2['label'] == 2].plot.scatter(x='weight', y='length', c='red', label='adult', ax=ax)\n",
    "ax = df3.plot.scatter(x='weight', y='length', c='gray', label='?', ax=ax)"
   ]
  },
  {
   "cell_type": "markdown",
   "metadata": {},
   "source": [
    "## calculate the eculidean distance\n",
    "And then make a prediction"
   ]
  },
  {
   "cell_type": "code",
   "execution_count": 187,
   "metadata": {},
   "outputs": [
    {
     "data": {
      "text/plain": [
       "[<matplotlib.lines.Line2D at 0x11c6d2590>]"
      ]
     },
     "execution_count": 187,
     "metadata": {},
     "output_type": "execute_result"
    },
    {
     "data": {
      "image/png": "[encoded data removed]",
      "text/plain": [
       "<Figure size 432x288 with 1 Axes>"
      ]
     },
     "metadata": {
      "needs_background": "light"
     },
     "output_type": "display_data"
    }
   ],
   "source": [
    "known = pd.DataFrame([df.iloc[0], df.iloc[1], df.iloc[4]], columns=['weight', 'length', 'label'])\n",
    "unknown = pd.DataFrame([df.iloc[14]], columns=['weight', 'length', 'label'])\n",
    "\n",
    "ax = known[known['label'] == 0].plot.scatter(x='weight', y='length', c='blue', label='young')\n",
    "ax = known[known['label'] == 1].plot.scatter(x='weight', y='length', c='orange', label='mid', ax=ax)\n",
    "ax = known[known['label'] == 2].plot.scatter(x='weight', y='length', c='red', label='adult', ax=ax)\n",
    "ax = unknown.plot.scatter(x='weight', y='length', c='gray', label='?', ax=ax)\n",
    "plt.plot([df.iloc[0].weight,df.iloc[14].weight], [df.iloc[0].length,df.iloc[14].length], color=\"orange\")\n",
    "plt.plot([df.iloc[1].weight,df.iloc[14].weight], [df.iloc[1].length,df.iloc[14].length], color=\"red\")\n",
    "plt.plot([df.iloc[4].weight,df.iloc[14].weight], [df.iloc[4].length,df.iloc[14].length], color=\"blue\")"
   ]
  },
  {
   "cell_type": "code",
   "execution_count": 188,
   "metadata": {},
   "outputs": [
    {
     "name": "stdout",
     "output_type": "stream",
     "text": [
      "   idx   distance\n",
      "0    4   0.900000\n",
      "1    0   6.888396\n",
      "2    1  11.669190\n",
      "euclidean distance of 0.9000000000000001 resulted in unknown dog being classified as young\n"
     ]
    }
   ],
   "source": [
    "x0 = remove_label(X[0])\n",
    "x1 = remove_label(X[1])\n",
    "x4 = remove_label(X[4])\n",
    "x14 = remove_label(X[14])\n",
    "\n",
    "xd0 = { \"idx\": 0, \"distance\": euclidean_distance(x14, x0) }\n",
    "xd1 = { \"idx\": 1, \"distance\": euclidean_distance(x14, x1) }\n",
    "xd4 = { \"idx\": 4, \"distance\": euclidean_distance(x14, x4) }\n",
    "\n",
    "distances = [ xd0, xd1, xd4 ]\n",
    "\n",
    "distances.sort(key=lambda x: x['distance']) \n",
    "distances_df = pd.DataFrame(distances)\n",
    "print(distances_df)\n",
    "\n",
    "i = distances[0]['idx']\n",
    "d = distances[0]['distance']\n",
    "l = labels[int(df.iloc[i]['label'])]\n",
    "print(f\"euclidean distance of {d} resulted in unknown dog being classified as {l}\")"
   ]
  },
  {
   "cell_type": "markdown",
   "metadata": {},
   "source": [
    "## calculate the cosine difference\n",
    "And then make a prediction"
   ]
  },
  {
   "cell_type": "code",
   "execution_count": 189,
   "metadata": {},
   "outputs": [
    {
     "data": {
      "text/plain": [
       "[<matplotlib.lines.Line2D at 0x11c82da50>]"
      ]
     },
     "execution_count": 189,
     "metadata": {},
     "output_type": "execute_result"
    },
    {
     "data": {
      "image/png": "[encoded data removed]",
      "text/plain": [
       "<Figure size 432x288 with 1 Axes>"
      ]
     },
     "metadata": {
      "needs_background": "light"
     },
     "output_type": "display_data"
    }
   ],
   "source": [
    "known = pd.DataFrame([df.iloc[0], df.iloc[1], df.iloc[4]], columns=['weight', 'length', 'label'])\n",
    "unknown = pd.DataFrame([df.iloc[14]], columns=['weight', 'length', 'label'])\n",
    "\n",
    "ax = known[known['label'] == 0].plot.scatter(x='weight', y='length', c='blue', label='young')\n",
    "ax = known[known['label'] == 1].plot.scatter(x='weight', y='length', c='orange', label='mid', ax=ax)\n",
    "ax = known[known['label'] == 2].plot.scatter(x='weight', y='length', c='red', label='adult', ax=ax)\n",
    "ax = unknown.plot.scatter(x='weight', y='length', c='gray', label='?', ax=ax)\n",
    "plt.plot([0,df.iloc[14].weight], [0,df.iloc[14].length], color=\"black\")\n",
    "plt.plot([0,df.iloc[0].weight], [0,df.iloc[0].length], color=\"orange\", linestyle='--')\n",
    "plt.plot([0,df.iloc[1].weight], [0,df.iloc[1].length], color=\"red\", linestyle='--')\n",
    "plt.plot([0,df.iloc[4].weight], [0,df.iloc[4].length], color=\"blue\", linestyle='--')"
   ]
  },
  {
   "cell_type": "code",
   "execution_count": 190,
   "metadata": {},
   "outputs": [
    {
     "name": "stdout",
     "output_type": "stream",
     "text": [
      "   idx  distance\n",
      "0    1  0.011186\n",
      "1    4  0.015582\n",
      "2    0  0.018214\n",
      "cosine distance of 0.011185536446641664 resulted in unknown dog being classified as adult\n"
     ]
    }
   ],
   "source": [
    "xd0 = { \"idx\": 0, \"distance\": cosine_distance(x14, x0) }\n",
    "xd1 = { \"idx\": 1, \"distance\": cosine_distance(x14, x1) }\n",
    "xd4 = { \"idx\": 4, \"distance\": cosine_distance(x14, x4) }\n",
    "\n",
    "distances = [ xd0, xd1, xd4 ]\n",
    "\n",
    "distances.sort(key=lambda x: x['distance']) \n",
    "distances_df = pd.DataFrame(distances)\n",
    "print(distances_df)\n",
    "\n",
    "i = distances[0]['idx']\n",
    "d = distances[0]['distance']\n",
    "l = labels[int(df.iloc[i]['label'])]\n",
    "print(f\"cosine distance of {d} resulted in unknown dog being classified as {l}\")"
   ]
  },
  {
   "cell_type": "markdown",
   "metadata": {},
   "source": [
    "## results\n",
    "In this case euclidean distance proved to be the much better measure as the magnitude of both length and weight are more important that the ratio of length to weight when determining how old a dog is"
   ]
  },
  {
   "cell_type": "markdown",
   "metadata": {},
   "source": [
    "# When cosine is king\n",
    "\n",
    "Given the following document set and word frequencies\n",
    "\n",
    "\n",
    "|document    | dog count | cat count  | label |\n",
    "| -----------|-----------|------------|--------|\n",
    "| hello kitty goes to space | 5 | 10 | cat |\n",
    "| top ten cat facts | 1 | 4 | cat |\n",
    "| how to pet a dog | 25 | 5 | ? |\n",
    "| alien vs lassie | 60 | 8 | dog |\n",
    "\n",
    "We need to determine a label for the document `how to pet a dog`, we'll add our documents to a matrix representation of this data.\n"
   ]
  },
  {
   "cell_type": "code",
   "execution_count": 191,
   "metadata": {},
   "outputs": [],
   "source": [
    "X = np.array([[5, 10, 1],\n",
    "              [1, 4, 1],\n",
    "              [25, 5, 2],\n",
    "              [60, 8, 0]])\n",
    "\n",
    "labels = [\"dog\",\"cat\",\"unknown\"]"
   ]
  },
  {
   "cell_type": "code",
   "execution_count": 192,
   "metadata": {},
   "outputs": [
    {
     "data": {
      "text/html": [
       "<div>\n",
       "<style scoped>\n",
       "    .dataframe tbody tr th:only-of-type {\n",
       "        vertical-align: middle;\n",
       "    }\n",
       "\n",
       "    .dataframe tbody tr th {\n",
       "        vertical-align: top;\n",
       "    }\n",
       "\n",
       "    .dataframe thead th {\n",
       "        text-align: right;\n",
       "    }\n",
       "</style>\n",
       "<table border=\"1\" class=\"dataframe\">\n",
       "  <thead>\n",
       "    <tr style=\"text-align: right;\">\n",
       "      <th></th>\n",
       "      <th>dog count</th>\n",
       "      <th>cat count</th>\n",
       "      <th>label</th>\n",
       "    </tr>\n",
       "  </thead>\n",
       "  <tbody>\n",
       "    <tr>\n",
       "      <td>0</td>\n",
       "      <td>5</td>\n",
       "      <td>10</td>\n",
       "      <td>1</td>\n",
       "    </tr>\n",
       "    <tr>\n",
       "      <td>1</td>\n",
       "      <td>1</td>\n",
       "      <td>4</td>\n",
       "      <td>1</td>\n",
       "    </tr>\n",
       "    <tr>\n",
       "      <td>2</td>\n",
       "      <td>25</td>\n",
       "      <td>5</td>\n",
       "      <td>2</td>\n",
       "    </tr>\n",
       "    <tr>\n",
       "      <td>3</td>\n",
       "      <td>60</td>\n",
       "      <td>8</td>\n",
       "      <td>0</td>\n",
       "    </tr>\n",
       "  </tbody>\n",
       "</table>\n",
       "</div>"
      ],
      "text/plain": [
       "   dog count  cat count  label\n",
       "0          5         10      1\n",
       "1          1          4      1\n",
       "2         25          5      2\n",
       "3         60          8      0"
      ]
     },
     "execution_count": 192,
     "metadata": {},
     "output_type": "execute_result"
    }
   ],
   "source": [
    "df = pd.DataFrame(X, columns=['dog count', 'cat count', 'label'])\n",
    "df"
   ]
  },
  {
   "cell_type": "markdown",
   "metadata": {},
   "source": [
    "## Lets plot the points on a graph"
   ]
  },
  {
   "cell_type": "code",
   "execution_count": 193,
   "metadata": {},
   "outputs": [
    {
     "data": {
      "text/plain": [
       "Text(5, 25, ' X')"
      ]
     },
     "execution_count": 193,
     "metadata": {},
     "output_type": "execute_result"
    },
    {
     "data": {
      "image/png": "[encoded data removed]",
      "text/plain": [
       "<Figure size 432x288 with 1 Axes>"
      ]
     },
     "metadata": {
      "needs_background": "light"
     },
     "output_type": "display_data"
    }
   ],
   "source": [
    "\n",
    "x = df['cat count']\n",
    "y = df['dog count']\n",
    "\n",
    "plt.xlabel('cat')\n",
    "plt.ylabel('dog')\n",
    "\n",
    "plt.scatter(x, y)\n",
    "plt.text(5, 25, \" X\")"
   ]
  },
  {
   "cell_type": "markdown",
   "metadata": {},
   "source": [
    "## calculate the euclidean distance\n",
    "\n",
    "We'll draw a line between our unknown document and all our known documents, and then measure the length of these lines"
   ]
  },
  {
   "cell_type": "code",
   "execution_count": 194,
   "metadata": {},
   "outputs": [
    {
     "data": {
      "text/plain": [
       "[<matplotlib.lines.Line2D at 0x11ca79790>]"
      ]
     },
     "execution_count": 194,
     "metadata": {},
     "output_type": "execute_result"
    },
    {
     "data": {
      "image/png": "[encoded data removed]",
      "text/plain": [
       "<Figure size 432x288 with 1 Axes>"
      ]
     },
     "metadata": {
      "needs_background": "light"
     },
     "output_type": "display_data"
    }
   ],
   "source": [
    "x = df['cat count']\n",
    "y = df['dog count']\n",
    "\n",
    "plt.xlabel('cat')\n",
    "plt.ylabel('dog')\n",
    "\n",
    "plt.scatter(x, y)\n",
    "\n",
    "plt.plot([4,5], [1,25], color=\"blue\")\n",
    "plt.plot([10,5], [5,25], color=\"blue\")\n",
    "plt.plot([5,8], [25,60], color=\"red\")"
   ]
  },
  {
   "cell_type": "markdown",
   "metadata": {},
   "source": [
    "## calculate the euclidean distance \n",
    "And make a prediction"
   ]
  },
  {
   "cell_type": "code",
   "execution_count": 195,
   "metadata": {},
   "outputs": [],
   "source": [
    "x0 = remove_label(X[0])\n",
    "x1 = remove_label(X[1])\n",
    "x3 = remove_label(X[3])\n",
    "x2 = remove_label(X[2])"
   ]
  },
  {
   "cell_type": "code",
   "execution_count": 196,
   "metadata": {},
   "outputs": [
    {
     "name": "stdout",
     "output_type": "stream",
     "text": [
      "   idx   distance\n",
      "0    0  20.615528\n",
      "1    1  24.020824\n",
      "2    3  35.128336\n",
      "euclidean distance of 20.615528128088304 resulted in unknown document being classified as cat\n"
     ]
    }
   ],
   "source": [
    "xd0 = { \"idx\": 0, \"distance\": euclidean_distance(x2, x0) }\n",
    "xd1 = { \"idx\": 1, \"distance\": euclidean_distance(x2, x1) }\n",
    "xd3 = { \"idx\": 3, \"distance\": euclidean_distance(x2, x3) }\n",
    "\n",
    "distances = [ xd0, xd1, xd3 ]\n",
    "\n",
    "distances.sort(key=lambda x: x['distance']) \n",
    "distances_df = pd.DataFrame(distances)\n",
    "print(distances_df)\n",
    "\n",
    "i = distances[0]['idx']\n",
    "d = distances[0]['distance']\n",
    "l = labels[int(df.iloc[i]['label'])]\n",
    "print(f\"euclidean distance of {d} resulted in unknown document being classified as {l}\")"
   ]
  },
  {
   "cell_type": "markdown",
   "metadata": {},
   "source": [
    "## calculate the cosine distance \n",
    "And make a prediction"
   ]
  },
  {
   "cell_type": "code",
   "execution_count": 197,
   "metadata": {},
   "outputs": [
    {
     "data": {
      "image/png": "[encoded data removed]",
      "text/plain": [
       "<Figure size 432x288 with 1 Axes>"
      ]
     },
     "metadata": {
      "needs_background": "light"
     },
     "output_type": "display_data"
    }
   ],
   "source": [
    "x = df['cat count']\n",
    "y = df['dog count']\n",
    "\n",
    "plt.xlabel('cat')\n",
    "plt.ylabel('dog')\n",
    "\n",
    "plt.scatter(x, y)\n",
    "\n",
    "plt.plot([0,8], [0,60], color=\"blue\", label=\"dog\")\n",
    "plt.plot([0,4], [0,1], color=\"red\",  label=\"cat\")\n",
    "plt.plot([0,10], [0,5], color=\"red\", label=\"cat\")\n",
    "plt.plot([0,5], [0,25], color=\"black\", linestyle='--', label=\"x\")\n",
    "\n",
    "plt.legend()\n",
    "plt.show()"
   ]
  },
  {
   "cell_type": "code",
   "execution_count": 198,
   "metadata": {},
   "outputs": [
    {
     "name": "stdout",
     "output_type": "stream",
     "text": [
      "   idx  distance\n",
      "0    3  0.002102\n",
      "1    0  0.386059\n",
      "2    1  0.571914\n",
      "cosine distance of 0.0021016373951946443 resulted in unknown document being classified as dog\n"
     ]
    }
   ],
   "source": [
    "xd0 = { \"idx\": 0, \"distance\": cosine_distance(x2, x0) }\n",
    "xd1 = { \"idx\": 1, \"distance\": cosine_distance(x2, x1) }\n",
    "xd3 = { \"idx\": 3, \"distance\": cosine_distance(x2, x3) }\n",
    "\n",
    "distances = [ xd0, xd1, xd3 ]\n",
    "\n",
    "distances.sort(key=lambda x: x['distance']) \n",
    "distances_df = pd.DataFrame(distances)\n",
    "print(distances_df)\n",
    "\n",
    "i = distances[0]['idx']\n",
    "d = distances[0]['distance']\n",
    "l = labels[int(df.iloc[i]['label'])]\n",
    "print(f\"cosine distance of {d} resulted in unknown document being classified as {l}\")"
   ]
  },
  {
   "cell_type": "markdown",
   "metadata": {},
   "source": [
    "## results\n",
    "In this case cosine distance proved to be the much better measure as the ratio of the word frequencies is more important than the magnitude of word frequency\n"
   ]
  }
 ],
 "metadata": {
  "kernelspec": {
   "display_name": "Python 3",
   "language": "python",
   "name": "python3"
  },
  "language_info": {
   "codemirror_mode": {
    "name": "ipython",
    "version": 3
   },
   "file_extension": ".py",
   "mimetype": "text/x-python",
   "name": "python",
   "nbconvert_exporter": "python",
   "pygments_lexer": "ipython3",
   "version": "3.7.4"
  }
 },
 "nbformat": 4,
 "nbformat_minor": 2
}
